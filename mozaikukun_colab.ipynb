{
  "nbformat": 4,
  "nbformat_minor": 0,
  "metadata": {
    "colab": {
      "provenance": [],
      "machine_shape": "hm",
      "gpuType": "L4"
    },
    "kernelspec": {
      "name": "python3",
      "display_name": "Python 3"
    },
    "language_info": {
      "name": "python"
    },
    "accelerator": "GPU"
  },
  "cells": [
    {
      "cell_type": "code",
      "execution_count": null,
      "metadata": {
        "id": "UoTjDv14xAY4"
      },
      "outputs": [],
      "source": [
        "# prompt: https://github.com/vladmandic/sdnext.git をクローンする\n",
        "\n",
        "!git clone https://github.com/vladmandic/sdnext.git"
      ]
    },
    {
      "cell_type": "code",
      "source": [
        "!mkdir -p sdnext/models/Stable-diffusion\n",
        "!mkdir -p sdnext/models/VAE\n",
        "!mkdir -p sdnext/extensions"
      ],
      "metadata": {
        "id": "Zs6MAEmOxkT-"
      },
      "execution_count": null,
      "outputs": []
    },
    {
      "cell_type": "code",
      "source": [
        "# prompt: https://github.com/sugarkwork/mozaikukun を sdnext/extensions の下に git clone する\n",
        "\n",
        "!git clone https://github.com/sugarkwork/mozaikukun.git sdnext/extensions/mozaikukun\n",
        "\n",
        "!pip install -r sdnext/extensions/mozaikukun/requirements.txt"
      ],
      "metadata": {
        "id": "4F4yBzc92QLf"
      },
      "execution_count": null,
      "outputs": []
    },
    {
      "cell_type": "code",
      "source": [
        "# prompt: 次のURLから、safetensors ファイルをダウンロードする。\n",
        "# https://huggingface.co/sugarknight/test_illust/resolve/main/ggbb30x.safetensors?download=true\n",
        "\n",
        "!wget https://huggingface.co/sugarknight/test_illust/resolve/main/ggbb30x.safetensors?download=true -O sdnext/models/Stable-diffusion/ggbb30x.safetensors\n"
      ],
      "metadata": {
        "id": "FCaLhcGx05V1"
      },
      "execution_count": null,
      "outputs": []
    },
    {
      "cell_type": "code",
      "source": [
        "# prompt: https://huggingface.co/stabilityai/sd-vae-ft-mse-original/resolve/main/vae-ft-mse-840000-ema-pruned.safetensors?download=true から VAE をダウンロード\n",
        "\n",
        "!wget https://huggingface.co/stabilityai/sd-vae-ft-mse-original/resolve/main/vae-ft-mse-840000-ema-pruned.safetensors?download=true -O sdnext/models/VAE/vae-ft-mse-840000-ema-pruned.safetensors\n"
      ],
      "metadata": {
        "id": "dyhpP0qj1n7l"
      },
      "execution_count": null,
      "outputs": []
    },
    {
      "cell_type": "code",
      "source": [
        "from google.colab import drive\n",
        "drive.mount('/content/drive')"
      ],
      "metadata": {
        "id": "grfAxd907cWK"
      },
      "execution_count": null,
      "outputs": []
    },
    {
      "cell_type": "code",
      "source": [
        "# prompt: /content/drive/MyDrive/outputs が無ければ mkdir する。\n",
        "# /content/sdnext/outputs があれば削除して、/content/drive/MyDrive/outputs  が実態となるようにシンボリックリンクを張る。\n",
        "\n",
        "import os\n",
        "from google.colab import drive\n",
        "\n",
        "# Check if /content/drive/MyDrive/outputs exists, create it if not\n",
        "drive_outputs_path = \"/content/drive/MyDrive/outputs\"\n",
        "if not os.path.exists(drive_outputs_path):\n",
        "  os.makedirs(drive_outputs_path)\n",
        "\n",
        "# Check if /content/sdnext/outputs exists, remove it if it does\n",
        "sdnext_outputs_path = \"/content/sdnext/outputs\"\n",
        "if os.path.exists(sdnext_outputs_path):\n",
        "  if os.path.islink(sdnext_outputs_path):\n",
        "    os.remove(sdnext_outputs_path)\n",
        "  elif os.path.isdir(sdnext_outputs_path):\n",
        "    !rm -rf {sdnext_outputs_path}\n",
        "\n",
        "# Create the symbolic link\n",
        "!ln -s {drive_outputs_path} {sdnext_outputs_path}\n"
      ],
      "metadata": {
        "id": "Ns7-VPLmKy_W"
      },
      "execution_count": null,
      "outputs": []
    },
    {
      "cell_type": "code",
      "source": [
        "# prompt: /content/sdnext/config.json として、\n",
        "# ```json\n",
        "# {\n",
        "#   \"sd_model_checkpoint\": \"ggbb30x [c936cb33ed]\",\n",
        "#   \"sd_vae\": \"vae-ft-mse-840000-ema-pruned.safetensors\"\n",
        "# }\n",
        "# ```\n",
        "# このファイルを作成する。\n",
        "\n",
        "import json\n",
        "import os\n",
        "\n",
        "# Define the file path\n",
        "file_path = '/content/sdnext/config.json'\n",
        "\n",
        "# Create the JSON data\n",
        "data = {\n",
        "  \"sd_model_checkpoint\": \"ggbb30x [c936cb33ed]\",\n",
        "  \"sd_vae\": \"vae-ft-mse-840000-ema-pruned.safetensors\"\n",
        "}\n",
        "\n",
        "# Write the JSON data to the file\n",
        "with open(file_path, 'w') as f:\n",
        "  json.dump(data, f, indent=2)\n",
        "\n",
        "# Verify the file was created correctly (optional)\n",
        "!cat /content/sdnext/config.json\n"
      ],
      "metadata": {
        "id": "T-7GdWOPO4bT"
      },
      "execution_count": null,
      "outputs": []
    },
    {
      "cell_type": "code",
      "source": [
        "# prompt: prompt: /content/sdnext/ui-config.json として、\n",
        "# ```json\n",
        "# {\n",
        "# \"txt2img/Sampling method/value\": \"Euler a\"\n",
        "# }\n",
        "# ```\n",
        "# このファイルを作成する。\n",
        "\n",
        "import json\n",
        "import os\n",
        "\n",
        "# Define the file path\n",
        "file_path = '/content/sdnext/ui-config.json'\n",
        "\n",
        "# Create the JSON data\n",
        "data = {\n",
        "    \"txt2img/Sampling method/value\": \"Euler a\",\n",
        "    \"txt2img/Prompt/value\": \"masterpeace, best quality, 1girl, spread_legs, spread_pussy\",\n",
        "    \"txt2img/Negative prompt/value\": \"(worst quality, low quality:1.4)\",\n",
        "    \"txt2img/Width/value\": 640,\n",
        "    \"txt2img/Height/value\": 640,\n",
        "}\n",
        "\n",
        "# Write the JSON data to the file\n",
        "with open(file_path, 'w') as f:\n",
        "  json.dump(data, f, indent=2)\n",
        "\n",
        "# Verify the file was created correctly (optional)\n",
        "!cat /content/sdnext/ui-config.json\n"
      ],
      "metadata": {
        "id": "I8dhyumhPJH1"
      },
      "execution_count": null,
      "outputs": []
    },
    {
      "cell_type": "code",
      "source": [
        "!cd /content/sdnext/; python launch.py --share --disable-safe-unpickle"
      ],
      "metadata": {
        "id": "qyS2evLAxoi9"
      },
      "execution_count": null,
      "outputs": []
    }
  ]
}